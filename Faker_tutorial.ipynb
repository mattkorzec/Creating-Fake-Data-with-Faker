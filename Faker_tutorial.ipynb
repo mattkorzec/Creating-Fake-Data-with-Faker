{
 "cells": [
  {
   "cell_type": "code",
   "execution_count": 1,
   "metadata": {},
   "outputs": [
    {
     "data": {
      "text/html": [
       "        <script type=\"text/javascript\">\n",
       "        window.PlotlyConfig = {MathJaxConfig: 'local'};\n",
       "        if (window.MathJax) {MathJax.Hub.Config({SVG: {font: \"STIX-Web\"}});}\n",
       "        if (typeof require !== 'undefined') {\n",
       "        require.undef(\"plotly\");\n",
       "        requirejs.config({\n",
       "            paths: {\n",
       "                'plotly': ['https://cdn.plot.ly/plotly-latest.min']\n",
       "            }\n",
       "        });\n",
       "        require(['plotly'], function(Plotly) {\n",
       "            window._Plotly = Plotly;\n",
       "        });\n",
       "        }\n",
       "        </script>\n",
       "        "
      ]
     },
     "metadata": {},
     "output_type": "display_data"
    },
    {
     "data": {
      "text/html": [
       "        <script type=\"text/javascript\">\n",
       "        window.PlotlyConfig = {MathJaxConfig: 'local'};\n",
       "        if (window.MathJax) {MathJax.Hub.Config({SVG: {font: \"STIX-Web\"}});}\n",
       "        if (typeof require !== 'undefined') {\n",
       "        require.undef(\"plotly\");\n",
       "        requirejs.config({\n",
       "            paths: {\n",
       "                'plotly': ['https://cdn.plot.ly/plotly-latest.min']\n",
       "            }\n",
       "        });\n",
       "        require(['plotly'], function(Plotly) {\n",
       "            window._Plotly = Plotly;\n",
       "        });\n",
       "        }\n",
       "        </script>\n",
       "        "
      ]
     },
     "metadata": {},
     "output_type": "display_data"
    }
   ],
   "source": [
    "import numpy as np\n",
    "import pandas as pd\n",
    "import seaborn as sns\n",
    "import matplotlib.pyplot as plt\n",
    "from sklearn.ensemble import RandomForestClassifier\n",
    "from sklearn.svm import SVC\n",
    "from sklearn import svm\n",
    "from sklearn.neural_network import MLPClassifier\n",
    "from sklearn.metrics import confusion_matrix, classification_report\n",
    "from sklearn.preprocessing import StandardScaler, LabelEncoder\n",
    "from sklearn.model_selection import train_test_split\n",
    "from sklearn.feature_extraction import DictVectorizer\n",
    "from sklearn.preprocessing import OneHotEncoder\n",
    "%matplotlib inline\n",
    "from faker import Faker\n",
    "# Plotly and Cufflinks set up\n",
    "import plotly\n",
    "import plotly.plotly as py\n",
    "import plotly.graph_objs as go\n",
    "import plotly.tools as tls\n",
    "import cufflinks as cf\n",
    "from plotly.offline import download_plotlyjs,init_notebook_mode,plot,iplot\n",
    "init_notebook_mode(connected=True)\n",
    "cf.go_offline()\n",
    "\n",
    "import warnings\n",
    "warnings.filterwarnings('ignore')\n",
    "\n",
    "import os\n",
    "os.chdir ('C:\\\\Users\\\\mkorzec\\Downloads')\n",
    "\n",
    "from datetime import datetime"
   ]
  },
  {
   "cell_type": "code",
   "execution_count": 2,
   "metadata": {},
   "outputs": [],
   "source": [
    "# Create fake data using Faker\n",
    "fake_data = Faker()"
   ]
  },
  {
   "cell_type": "code",
   "execution_count": 3,
   "metadata": {},
   "outputs": [],
   "source": [
    "def create_names(n):\n",
    "    name = []\n",
    "    for _ in range(0, n):\n",
    "        name.append(fake_data.name())\n",
    "    return name"
   ]
  },
  {
   "cell_type": "code",
   "execution_count": 4,
   "metadata": {},
   "outputs": [],
   "source": [
    "name = create_names(200)"
   ]
  },
  {
   "cell_type": "code",
   "execution_count": 5,
   "metadata": {},
   "outputs": [],
   "source": [
    "def create_country(n):\n",
    "    nation = []\n",
    "    for _ in range(0, n):\n",
    "        nation.append(fake_data.country())\n",
    "    return nation"
   ]
  },
  {
   "cell_type": "code",
   "execution_count": 6,
   "metadata": {},
   "outputs": [],
   "source": [
    "country = create_country(200)"
   ]
  },
  {
   "cell_type": "code",
   "execution_count": 7,
   "metadata": {},
   "outputs": [],
   "source": [
    "age = np.random.randint(21, 99, size = 200, dtype = 'int')"
   ]
  },
  {
   "cell_type": "code",
   "execution_count": 8,
   "metadata": {},
   "outputs": [],
   "source": [
    "def create_date(n):\n",
    "    member_since = []\n",
    "    for _ in range(0, n):\n",
    "        member_since.append(fake_data.date_this_century())\n",
    "    return member_since"
   ]
  },
  {
   "cell_type": "code",
   "execution_count": 9,
   "metadata": {},
   "outputs": [],
   "source": [
    "date = create_date(200)"
   ]
  },
  {
   "cell_type": "code",
   "execution_count": 10,
   "metadata": {},
   "outputs": [],
   "source": [
    "def create_job(n):\n",
    "    job = []\n",
    "    for _ in range(0, n):\n",
    "        job.append(fake_data.job())\n",
    "    return job"
   ]
  },
  {
   "cell_type": "code",
   "execution_count": 11,
   "metadata": {},
   "outputs": [],
   "source": [
    "occupation = create_job(200)"
   ]
  },
  {
   "cell_type": "code",
   "execution_count": 12,
   "metadata": {},
   "outputs": [],
   "source": [
    "def create_credit(n):\n",
    "    card = []\n",
    "    for _ in range(0, n):\n",
    "        card.append(fake_data.credit_card_provider())\n",
    "    return card"
   ]
  },
  {
   "cell_type": "code",
   "execution_count": 13,
   "metadata": {},
   "outputs": [],
   "source": [
    "card = create_credit(200)"
   ]
  },
  {
   "cell_type": "code",
   "execution_count": 14,
   "metadata": {},
   "outputs": [],
   "source": [
    "def create_location(n):\n",
    "    location = []\n",
    "    for _ in range(0, n):\n",
    "        location.append(fake_data.local_latlng(country_code = \"US\"))\n",
    "    return location"
   ]
  },
  {
   "cell_type": "code",
   "execution_count": 15,
   "metadata": {},
   "outputs": [],
   "source": [
    "location = create_location(200)"
   ]
  },
  {
   "cell_type": "code",
   "execution_count": 16,
   "metadata": {},
   "outputs": [],
   "source": [
    "married = np.random.randint(0,2, size = 200)"
   ]
  },
  {
   "cell_type": "code",
   "execution_count": 17,
   "metadata": {},
   "outputs": [],
   "source": [
    "def create_race(n):\n",
    "    race = []\n",
    "    for _ in range(0, n):\n",
    "        race.append(fake_data.random_element(elements = (\"White\", \"Hispanic\", \"Black\", \"Asian\")))\n",
    "    return race"
   ]
  },
  {
   "cell_type": "code",
   "execution_count": 18,
   "metadata": {},
   "outputs": [],
   "source": [
    "races = create_race(200)"
   ]
  },
  {
   "cell_type": "code",
   "execution_count": 19,
   "metadata": {},
   "outputs": [],
   "source": [
    "salary = np.random.randint(10000, 120000, size = 200, dtype = 'int')"
   ]
  },
  {
   "cell_type": "code",
   "execution_count": 20,
   "metadata": {},
   "outputs": [],
   "source": [
    "savings = np.random.randint(0, 50000, size = 200, dtype = 'int')"
   ]
  },
  {
   "cell_type": "code",
   "execution_count": 21,
   "metadata": {},
   "outputs": [],
   "source": [
    "rent = np.random.randint(500, 3001, size = 200, dtype = 'int')"
   ]
  },
  {
   "cell_type": "code",
   "execution_count": 22,
   "metadata": {},
   "outputs": [],
   "source": [
    "data = pd.DataFrame(list(zip(name, country, age, date, occupation, card, location, married,\n",
    "                            races, salary, savings, rent)),\n",
    "                   columns = ['Name', 'Place_of_Birth', 'Age', 'Member_Since', 'Job',\n",
    "                              'Card', 'Location', 'Married', 'Race', 'Salary', 'Savings',\n",
    "                              'Rent'])"
   ]
  },
  {
   "cell_type": "code",
   "execution_count": 71,
   "metadata": {},
   "outputs": [],
   "source": [
    "# Create a date oriented dataset\n",
    "datelist = pd.date_range('2010-01-01', periods = 200)\n",
    "sales = np.random.randint(100, 1100, size = 200, dtype = 'int')\n",
    "profit = np.random.uniform(10000, 1000000, size = 200)\n",
    "\n",
    "data2 = pd.DataFrame(list(zip(datelist, sales, profit)),\n",
    "                   columns = ['Date', 'Sales', 'Profit'])"
   ]
  },
  {
   "cell_type": "code",
   "execution_count": 75,
   "metadata": {},
   "outputs": [
    {
     "data": {
      "text/html": [
       "<div>\n",
       "<style scoped>\n",
       "    .dataframe tbody tr th:only-of-type {\n",
       "        vertical-align: middle;\n",
       "    }\n",
       "\n",
       "    .dataframe tbody tr th {\n",
       "        vertical-align: top;\n",
       "    }\n",
       "\n",
       "    .dataframe thead th {\n",
       "        text-align: right;\n",
       "    }\n",
       "</style>\n",
       "<table border=\"1\" class=\"dataframe\">\n",
       "  <thead>\n",
       "    <tr style=\"text-align: right;\">\n",
       "      <th></th>\n",
       "      <th>Date</th>\n",
       "      <th>Sales</th>\n",
       "      <th>Profit</th>\n",
       "    </tr>\n",
       "  </thead>\n",
       "  <tbody>\n",
       "    <tr>\n",
       "      <th>0</th>\n",
       "      <td>2010-01-01</td>\n",
       "      <td>679</td>\n",
       "      <td>303162.58</td>\n",
       "    </tr>\n",
       "    <tr>\n",
       "      <th>1</th>\n",
       "      <td>2010-01-02</td>\n",
       "      <td>924</td>\n",
       "      <td>342725.37</td>\n",
       "    </tr>\n",
       "    <tr>\n",
       "      <th>2</th>\n",
       "      <td>2010-01-03</td>\n",
       "      <td>857</td>\n",
       "      <td>713536.51</td>\n",
       "    </tr>\n",
       "    <tr>\n",
       "      <th>3</th>\n",
       "      <td>2010-01-04</td>\n",
       "      <td>250</td>\n",
       "      <td>101966.18</td>\n",
       "    </tr>\n",
       "    <tr>\n",
       "      <th>4</th>\n",
       "      <td>2010-01-05</td>\n",
       "      <td>461</td>\n",
       "      <td>336921.63</td>\n",
       "    </tr>\n",
       "  </tbody>\n",
       "</table>\n",
       "</div>"
      ],
      "text/plain": [
       "        Date  Sales     Profit\n",
       "0 2010-01-01    679  303162.58\n",
       "1 2010-01-02    924  342725.37\n",
       "2 2010-01-03    857  713536.51\n",
       "3 2010-01-04    250  101966.18\n",
       "4 2010-01-05    461  336921.63"
      ]
     },
     "execution_count": 75,
     "metadata": {},
     "output_type": "execute_result"
    }
   ],
   "source": [
    "data2.head()"
   ]
  },
  {
   "cell_type": "code",
   "execution_count": 74,
   "metadata": {},
   "outputs": [],
   "source": [
    "data2['Profit'] = data2['Profit'].round(2)"
   ]
  },
  {
   "cell_type": "code",
   "execution_count": 76,
   "metadata": {},
   "outputs": [
    {
     "name": "stdout",
     "output_type": "stream",
     "text": [
      "<class 'pandas.core.frame.DataFrame'>\n",
      "RangeIndex: 200 entries, 0 to 199\n",
      "Data columns (total 3 columns):\n",
      "Date      200 non-null datetime64[ns]\n",
      "Sales     200 non-null int64\n",
      "Profit    200 non-null float64\n",
      "dtypes: datetime64[ns](1), float64(1), int64(1)\n",
      "memory usage: 4.8 KB\n"
     ]
    }
   ],
   "source": [
    "data2.info()"
   ]
  },
  {
   "cell_type": "code",
   "execution_count": 24,
   "metadata": {},
   "outputs": [
    {
     "data": {
      "text/html": [
       "<div>\n",
       "<style scoped>\n",
       "    .dataframe tbody tr th:only-of-type {\n",
       "        vertical-align: middle;\n",
       "    }\n",
       "\n",
       "    .dataframe tbody tr th {\n",
       "        vertical-align: top;\n",
       "    }\n",
       "\n",
       "    .dataframe thead th {\n",
       "        text-align: right;\n",
       "    }\n",
       "</style>\n",
       "<table border=\"1\" class=\"dataframe\">\n",
       "  <thead>\n",
       "    <tr style=\"text-align: right;\">\n",
       "      <th></th>\n",
       "      <th>Name</th>\n",
       "      <th>Place_of_Birth</th>\n",
       "      <th>Age</th>\n",
       "      <th>Member_Since</th>\n",
       "      <th>Job</th>\n",
       "      <th>Card</th>\n",
       "      <th>Location</th>\n",
       "      <th>Married</th>\n",
       "      <th>Race</th>\n",
       "      <th>Salary</th>\n",
       "      <th>Savings</th>\n",
       "      <th>Rent</th>\n",
       "    </tr>\n",
       "  </thead>\n",
       "  <tbody>\n",
       "    <tr>\n",
       "      <th>0</th>\n",
       "      <td>Theodore Chavez</td>\n",
       "      <td>Honduras</td>\n",
       "      <td>39</td>\n",
       "      <td>2016-09-08</td>\n",
       "      <td>Ranger/warden</td>\n",
       "      <td>JCB 16 digit</td>\n",
       "      <td>(40.63316, -74.13653, Port Richmond, US, Ameri...</td>\n",
       "      <td>1</td>\n",
       "      <td>Asian</td>\n",
       "      <td>13823</td>\n",
       "      <td>4662</td>\n",
       "      <td>2078</td>\n",
       "    </tr>\n",
       "    <tr>\n",
       "      <th>1</th>\n",
       "      <td>Julie Lane</td>\n",
       "      <td>Australia</td>\n",
       "      <td>39</td>\n",
       "      <td>2011-06-06</td>\n",
       "      <td>Senior tax professional/tax inspector</td>\n",
       "      <td>VISA 13 digit</td>\n",
       "      <td>(40.67705, -73.89125, Cypress Hills, US, Ameri...</td>\n",
       "      <td>0</td>\n",
       "      <td>Black</td>\n",
       "      <td>58710</td>\n",
       "      <td>18369</td>\n",
       "      <td>2825</td>\n",
       "    </tr>\n",
       "    <tr>\n",
       "      <th>2</th>\n",
       "      <td>Daniel Dominguez</td>\n",
       "      <td>Portugal</td>\n",
       "      <td>98</td>\n",
       "      <td>2010-04-05</td>\n",
       "      <td>Administrator, sports</td>\n",
       "      <td>Mastercard</td>\n",
       "      <td>(42.4251, -71.06616, Malden, US, America/New_Y...</td>\n",
       "      <td>0</td>\n",
       "      <td>Hispanic</td>\n",
       "      <td>12838</td>\n",
       "      <td>1935</td>\n",
       "      <td>607</td>\n",
       "    </tr>\n",
       "    <tr>\n",
       "      <th>3</th>\n",
       "      <td>Jorge Castillo</td>\n",
       "      <td>Lebanon</td>\n",
       "      <td>28</td>\n",
       "      <td>2012-08-12</td>\n",
       "      <td>Pharmacist, community</td>\n",
       "      <td>Mastercard</td>\n",
       "      <td>(39.43534, -84.20299, Lebanon, US, America/New...</td>\n",
       "      <td>1</td>\n",
       "      <td>Asian</td>\n",
       "      <td>105857</td>\n",
       "      <td>30027</td>\n",
       "      <td>2115</td>\n",
       "    </tr>\n",
       "    <tr>\n",
       "      <th>4</th>\n",
       "      <td>Elizabeth Young</td>\n",
       "      <td>Bulgaria</td>\n",
       "      <td>64</td>\n",
       "      <td>2012-01-20</td>\n",
       "      <td>Diagnostic radiographer</td>\n",
       "      <td>VISA 13 digit</td>\n",
       "      <td>(26.18924, -98.15529, San Juan, US, America/Ch...</td>\n",
       "      <td>1</td>\n",
       "      <td>White</td>\n",
       "      <td>37544</td>\n",
       "      <td>45356</td>\n",
       "      <td>2205</td>\n",
       "    </tr>\n",
       "  </tbody>\n",
       "</table>\n",
       "</div>"
      ],
      "text/plain": [
       "               Name Place_of_Birth  Age Member_Since  \\\n",
       "0   Theodore Chavez       Honduras   39   2016-09-08   \n",
       "1        Julie Lane      Australia   39   2011-06-06   \n",
       "2  Daniel Dominguez       Portugal   98   2010-04-05   \n",
       "3    Jorge Castillo        Lebanon   28   2012-08-12   \n",
       "4   Elizabeth Young       Bulgaria   64   2012-01-20   \n",
       "\n",
       "                                     Job           Card  \\\n",
       "0                          Ranger/warden   JCB 16 digit   \n",
       "1  Senior tax professional/tax inspector  VISA 13 digit   \n",
       "2                  Administrator, sports     Mastercard   \n",
       "3                  Pharmacist, community     Mastercard   \n",
       "4                Diagnostic radiographer  VISA 13 digit   \n",
       "\n",
       "                                            Location  Married      Race  \\\n",
       "0  (40.63316, -74.13653, Port Richmond, US, Ameri...        1     Asian   \n",
       "1  (40.67705, -73.89125, Cypress Hills, US, Ameri...        0     Black   \n",
       "2  (42.4251, -71.06616, Malden, US, America/New_Y...        0  Hispanic   \n",
       "3  (39.43534, -84.20299, Lebanon, US, America/New...        1     Asian   \n",
       "4  (26.18924, -98.15529, San Juan, US, America/Ch...        1     White   \n",
       "\n",
       "   Salary  Savings  Rent  \n",
       "0   13823     4662  2078  \n",
       "1   58710    18369  2825  \n",
       "2   12838     1935   607  \n",
       "3  105857    30027  2115  \n",
       "4   37544    45356  2205  "
      ]
     },
     "execution_count": 24,
     "metadata": {},
     "output_type": "execute_result"
    }
   ],
   "source": [
    "data.head()"
   ]
  },
  {
   "cell_type": "code",
   "execution_count": 25,
   "metadata": {
    "scrolled": true
   },
   "outputs": [
    {
     "name": "stdout",
     "output_type": "stream",
     "text": [
      "<class 'pandas.core.frame.DataFrame'>\n",
      "RangeIndex: 200 entries, 0 to 199\n",
      "Data columns (total 12 columns):\n",
      "Name              200 non-null object\n",
      "Place_of_Birth    200 non-null object\n",
      "Age               200 non-null int64\n",
      "Member_Since      200 non-null object\n",
      "Job               200 non-null object\n",
      "Card              200 non-null object\n",
      "Location          200 non-null object\n",
      "Married           200 non-null int64\n",
      "Race              200 non-null object\n",
      "Salary            200 non-null int64\n",
      "Savings           200 non-null int64\n",
      "Rent              200 non-null int64\n",
      "dtypes: int64(5), object(7)\n",
      "memory usage: 18.8+ KB\n"
     ]
    }
   ],
   "source": [
    "data.info()"
   ]
  }
 ],
 "metadata": {
  "kernelspec": {
   "display_name": "Python 3",
   "language": "python",
   "name": "python3"
  },
  "language_info": {
   "codemirror_mode": {
    "name": "ipython",
    "version": 3
   },
   "file_extension": ".py",
   "mimetype": "text/x-python",
   "name": "python",
   "nbconvert_exporter": "python",
   "pygments_lexer": "ipython3",
   "version": "3.7.3"
  }
 },
 "nbformat": 4,
 "nbformat_minor": 2
}
